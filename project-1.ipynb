{
 "cells": [
  {
   "cell_type": "markdown",
   "id": "bc7f7049-2900-4f1f-833d-f55f59bddc60",
   "metadata": {},
   "source": [
    "# Project\n",
    "\n",
    "\n",
    "\n",
    "\n",
    "\n",
    "\n",
    "\n",
    "## Link to github repository\n",
    "https://github.com/X9126/dsci-100-2025ss-individual/tree/main"
   ]
  },
  {
   "cell_type": "markdown",
   "id": "2fd5dba3-4372-45bd-989e-60671346dc5c",
   "metadata": {},
   "source": [
    "## Introduction\n",
    "The video game industry has seen major growth, with players of all ages joining in. To keep players engaged, developers and marketers are paying closer attention to player behavior, especially when it comes to game newsletters. Understanding which types of players are most likely to subscribe can help tailor communication strategies and boost long-term player retention.\n",
    "\n",
    "\n",
    "\n",
    "## Question \n",
    "Can player characteristics such as experience level, age, gender, and total play time be used to predict newsletter subscription, and how do these characteristics vary across different types of players?\n",
    "\n",
    "\n",
    "\n",
    "## Data Description\n",
    "This analysis uses the `players.csv` dataset, which contains `196` records and `7` variables describing individual game players. The dataset was provided by a research group at `UBC` studying player behavior in a `Minecraft` server environment. The dataset includes both `categorical` and `numerical` variables. These variables are: `experience`, a `categorical` variable indicating the player’s self-reported gaming experience (e.g., `Pro`, `Veteran`); `subscribe`, a `boolean` variable showing whether the player subscribed to a game-related newsletter; `played_hours`, a `numerical` variable representing the total hours played; `Age`, a `numerical` variable recording the player’s age; `gender`, a `categorical` variable for gender identity; and two identifier variables, `name` and `hashedEmail`, which are excluded from analysis.\n",
    "\n",
    "Among the `numerical` variables, `played_hours` ranges from `0` to `95` hours, with a mean of about `9.8` and a median of around `2.0`, indicating a right-skewed distribution. The `Age` variable ranges from `8` to `29`, with an average of about `17.3` and `2` missing values that need to be handled before modeling. The `categorical` variables such as `experience` and `gender` will require encoding during analysis. This project will use `experience`, `played_hours`, `gender`, and `Age` as explanatory variables to predict the binary target variable `subscribe`. The dataset is suitable for both `prediction` and `player-type comparison`, as `experience` can also serve as a grouping variable. Overall, the data is clean, organized, and mostly complete, with only minimal preprocessing needed before modeling."
   ]
  },
  {
   "cell_type": "code",
   "execution_count": null,
   "id": "1a74b12f-7bf5-479c-b249-53fc010c4f9b",
   "metadata": {},
   "outputs": [],
   "source": []
  }
 ],
 "metadata": {
  "kernelspec": {
   "display_name": "R",
   "language": "R",
   "name": "ir"
  },
  "language_info": {
   "codemirror_mode": "r",
   "file_extension": ".r",
   "mimetype": "text/x-r-source",
   "name": "R",
   "pygments_lexer": "r",
   "version": "4.3.3"
  }
 },
 "nbformat": 4,
 "nbformat_minor": 5
}
