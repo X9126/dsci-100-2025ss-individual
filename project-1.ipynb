{
 "cells": [
  {
   "cell_type": "markdown",
   "id": "bc7f7049-2900-4f1f-833d-f55f59bddc60",
   "metadata": {},
   "source": [
    "# Project\n",
    "\n",
    "\n",
    "\n",
    "\n",
    "\n",
    "\n",
    "\n",
    "## Link to github repository\n",
    "https://github.com/X9126/dsci-100-2025ss-individual/tree/main"
   ]
  },
  {
   "cell_type": "markdown",
   "id": "2fd5dba3-4372-45bd-989e-60671346dc5c",
   "metadata": {},
   "source": [
    "## Introduction\n",
    "The video game industry has seen major growth, with players of all ages joining in. To keep players engaged, developers and marketers are paying closer attention to player behavior, especially when it comes to game newsletters. Understanding which types of players are most likely to subscribe can help tailor communication strategies and boost long-term player retention.\n",
    "\n",
    "\n",
    "\n",
    "## Question \n",
    "Can experience and played hours predict newsletter subscription in the players dataset?s\n",
    "\n",
    "\n",
    "## Data Description\n",
    "This analysis uses the `players.csv` dataset, which contains `196` records and `7` variables describing individual game players. The dataset was provided by a research group at `UBC` studying player behavior in a `Minecraft` server environment. The dataset includes both `categorical` and `numerical` variables. These variables are: `experience`, a `categorical` variable indicating the player’s self-reported gaming experience (e.g., `Pro`, `Veteran`); `subscribe`, a `boolean` variable showing whether the player subscribed to a game-related newsletter; `played_hours`, a `numerical` variable representing the total hours played; `Age`, a `numerical` variable recording the player’s age; `gender`, a `categorical` variable for gender identity; and two identifier variables, `name` and `hashedEmail`, which are excluded from analysis.\n",
    "\n",
    "Among the `numerical` variables, `played_hours` ranges from `0` to `95` hours, with a mean of about `9.8` and a median of around `2.0`, indicating a right-skewed distribution. The `Age` variable ranges from `8` to `29`, with an average of about `17.3` and `2` missing values that need to be handled before modeling. The `categorical` variables such as `experience` and `gender` will require encoding during analysis. This project will use `experience`, `played_hours`, `gender`, and `Age` as explanatory variables to predict the binary target variable `subscribe`. The dataset is suitable for both `prediction` and `player-type comparison`, as `experience` can also serve as a grouping variable. Overall, the data is clean, organized, and mostly complete, with only minimal preprocessing needed before modeling."
   ]
  },
  {
   "cell_type": "markdown",
   "id": "6a7232c0-84c4-46cb-b6a9-ecaff0fd25e4",
   "metadata": {},
   "source": [
    "## Methods & Results"
   ]
  },
  {
   "cell_type": "code",
   "execution_count": 2,
   "id": "54d4afcd-6689-4570-bd22-789c416d0a1a",
   "metadata": {},
   "outputs": [
    {
     "name": "stderr",
     "output_type": "stream",
     "text": [
      "── \u001b[1mAttaching packages\u001b[22m ────────────────────────────────────── tidymodels 1.1.1 ──\n",
      "\n",
      "\u001b[32m✔\u001b[39m \u001b[34mbroom       \u001b[39m 1.0.6     \u001b[32m✔\u001b[39m \u001b[34mrsample     \u001b[39m 1.2.1\n",
      "\u001b[32m✔\u001b[39m \u001b[34mdials       \u001b[39m 1.3.0     \u001b[32m✔\u001b[39m \u001b[34mtune        \u001b[39m 1.1.2\n",
      "\u001b[32m✔\u001b[39m \u001b[34minfer       \u001b[39m 1.0.7     \u001b[32m✔\u001b[39m \u001b[34mworkflows   \u001b[39m 1.1.4\n",
      "\u001b[32m✔\u001b[39m \u001b[34mmodeldata   \u001b[39m 1.4.0     \u001b[32m✔\u001b[39m \u001b[34mworkflowsets\u001b[39m 1.0.1\n",
      "\u001b[32m✔\u001b[39m \u001b[34mparsnip     \u001b[39m 1.2.1     \u001b[32m✔\u001b[39m \u001b[34myardstick   \u001b[39m 1.3.1\n",
      "\u001b[32m✔\u001b[39m \u001b[34mrecipes     \u001b[39m 1.1.0     \n",
      "\n",
      "── \u001b[1mConflicts\u001b[22m ───────────────────────────────────────── tidymodels_conflicts() ──\n",
      "\u001b[31m✖\u001b[39m \u001b[34mscales\u001b[39m::\u001b[32mdiscard()\u001b[39m masks \u001b[34mpurrr\u001b[39m::discard()\n",
      "\u001b[31m✖\u001b[39m \u001b[34mdplyr\u001b[39m::\u001b[32mfilter()\u001b[39m   masks \u001b[34mstats\u001b[39m::filter()\n",
      "\u001b[31m✖\u001b[39m \u001b[34mrecipes\u001b[39m::\u001b[32mfixed()\u001b[39m  masks \u001b[34mstringr\u001b[39m::fixed()\n",
      "\u001b[31m✖\u001b[39m \u001b[34mdplyr\u001b[39m::\u001b[32mlag()\u001b[39m      masks \u001b[34mstats\u001b[39m::lag()\n",
      "\u001b[31m✖\u001b[39m \u001b[34myardstick\u001b[39m::\u001b[32mspec()\u001b[39m masks \u001b[34mreadr\u001b[39m::spec()\n",
      "\u001b[31m✖\u001b[39m \u001b[34mrecipes\u001b[39m::\u001b[32mstep()\u001b[39m   masks \u001b[34mstats\u001b[39m::step()\n",
      "\u001b[34m•\u001b[39m Use suppressPackageStartupMessages() to eliminate package startup messages\n",
      "\n"
     ]
    }
   ],
   "source": [
    "library(tidyverse)    \n",
    "library(tidymodels) "
   ]
  },
  {
   "cell_type": "code",
   "execution_count": 34,
   "id": "050f44d0-c965-4c1d-bd82-7fcf6d6416b4",
   "metadata": {},
   "outputs": [
    {
     "name": "stderr",
     "output_type": "stream",
     "text": [
      "\u001b[1mRows: \u001b[22m\u001b[34m196\u001b[39m \u001b[1mColumns: \u001b[22m\u001b[34m7\u001b[39m\n",
      "\u001b[36m──\u001b[39m \u001b[1mColumn specification\u001b[22m \u001b[36m────────────────────────────────────────────────────────\u001b[39m\n",
      "\u001b[1mDelimiter:\u001b[22m \",\"\n",
      "\u001b[31mchr\u001b[39m (4): experience, hashedEmail, name, gender\n",
      "\u001b[32mdbl\u001b[39m (2): played_hours, Age\n",
      "\u001b[33mlgl\u001b[39m (1): subscribe\n",
      "\n",
      "\u001b[36mℹ\u001b[39m Use `spec()` to retrieve the full column specification for this data.\n",
      "\u001b[36mℹ\u001b[39m Specify the column types or set `show_col_types = FALSE` to quiet this message.\n"
     ]
    }
   ],
   "source": [
    "players <- read_csv(\"players.csv\")\n",
    "\n",
    "clean_players <- players |>\n",
    "  select(experience, played_hours, subscribe) |>\n",
    "  mutate(subscribe = as.factor(subscribe)) "
   ]
  },
  {
   "cell_type": "code",
   "execution_count": 35,
   "id": "193c25e0-39d5-404f-8bcf-f17822a9e7c8",
   "metadata": {},
   "outputs": [
    {
     "data": {
      "text/html": [
       "<table class=\"dataframe\">\n",
       "<caption>A tibble: 6 × 3</caption>\n",
       "<thead>\n",
       "\t<tr><th scope=col>experience</th><th scope=col>played_hours</th><th scope=col>subscribe</th></tr>\n",
       "\t<tr><th scope=col>&lt;chr&gt;</th><th scope=col>&lt;dbl&gt;</th><th scope=col>&lt;fct&gt;</th></tr>\n",
       "</thead>\n",
       "<tbody>\n",
       "\t<tr><td>Pro    </td><td>30.3</td><td>TRUE </td></tr>\n",
       "\t<tr><td>Veteran</td><td> 3.8</td><td>TRUE </td></tr>\n",
       "\t<tr><td>Veteran</td><td> 0.0</td><td>FALSE</td></tr>\n",
       "\t<tr><td>Amateur</td><td> 0.7</td><td>TRUE </td></tr>\n",
       "\t<tr><td>Regular</td><td> 0.1</td><td>TRUE </td></tr>\n",
       "\t<tr><td>Amateur</td><td> 0.0</td><td>TRUE </td></tr>\n",
       "</tbody>\n",
       "</table>\n"
      ],
      "text/latex": [
       "A tibble: 6 × 3\n",
       "\\begin{tabular}{lll}\n",
       " experience & played\\_hours & subscribe\\\\\n",
       " <chr> & <dbl> & <fct>\\\\\n",
       "\\hline\n",
       "\t Pro     & 30.3 & TRUE \\\\\n",
       "\t Veteran &  3.8 & TRUE \\\\\n",
       "\t Veteran &  0.0 & FALSE\\\\\n",
       "\t Amateur &  0.7 & TRUE \\\\\n",
       "\t Regular &  0.1 & TRUE \\\\\n",
       "\t Amateur &  0.0 & TRUE \\\\\n",
       "\\end{tabular}\n"
      ],
      "text/markdown": [
       "\n",
       "A tibble: 6 × 3\n",
       "\n",
       "| experience &lt;chr&gt; | played_hours &lt;dbl&gt; | subscribe &lt;fct&gt; |\n",
       "|---|---|---|\n",
       "| Pro     | 30.3 | TRUE  |\n",
       "| Veteran |  3.8 | TRUE  |\n",
       "| Veteran |  0.0 | FALSE |\n",
       "| Amateur |  0.7 | TRUE  |\n",
       "| Regular |  0.1 | TRUE  |\n",
       "| Amateur |  0.0 | TRUE  |\n",
       "\n"
      ],
      "text/plain": [
       "  experience played_hours subscribe\n",
       "1 Pro        30.3         TRUE     \n",
       "2 Veteran     3.8         TRUE     \n",
       "3 Veteran     0.0         FALSE    \n",
       "4 Amateur     0.7         TRUE     \n",
       "5 Regular     0.1         TRUE     \n",
       "6 Amateur     0.0         TRUE     "
      ]
     },
     "metadata": {},
     "output_type": "display_data"
    }
   ],
   "source": [
    "head(clean_players)"
   ]
  },
  {
   "cell_type": "code",
   "execution_count": 36,
   "id": "9fe70bca-57ed-441c-81d8-798f6e011d91",
   "metadata": {},
   "outputs": [
    {
     "data": {
      "text/html": [
       "<table class=\"dataframe\">\n",
       "<caption>A tibble: 5 × 2</caption>\n",
       "<thead>\n",
       "\t<tr><th scope=col>experience</th><th scope=col>count</th></tr>\n",
       "\t<tr><th scope=col>&lt;chr&gt;</th><th scope=col>&lt;int&gt;</th></tr>\n",
       "</thead>\n",
       "<tbody>\n",
       "\t<tr><td>Amateur </td><td>63</td></tr>\n",
       "\t<tr><td>Beginner</td><td>35</td></tr>\n",
       "\t<tr><td>Pro     </td><td>14</td></tr>\n",
       "\t<tr><td>Regular </td><td>36</td></tr>\n",
       "\t<tr><td>Veteran </td><td>48</td></tr>\n",
       "</tbody>\n",
       "</table>\n"
      ],
      "text/latex": [
       "A tibble: 5 × 2\n",
       "\\begin{tabular}{ll}\n",
       " experience & count\\\\\n",
       " <chr> & <int>\\\\\n",
       "\\hline\n",
       "\t Amateur  & 63\\\\\n",
       "\t Beginner & 35\\\\\n",
       "\t Pro      & 14\\\\\n",
       "\t Regular  & 36\\\\\n",
       "\t Veteran  & 48\\\\\n",
       "\\end{tabular}\n"
      ],
      "text/markdown": [
       "\n",
       "A tibble: 5 × 2\n",
       "\n",
       "| experience &lt;chr&gt; | count &lt;int&gt; |\n",
       "|---|---|\n",
       "| Amateur  | 63 |\n",
       "| Beginner | 35 |\n",
       "| Pro      | 14 |\n",
       "| Regular  | 36 |\n",
       "| Veteran  | 48 |\n",
       "\n"
      ],
      "text/plain": [
       "  experience count\n",
       "1 Amateur    63   \n",
       "2 Beginner   35   \n",
       "3 Pro        14   \n",
       "4 Regular    36   \n",
       "5 Veteran    48   "
      ]
     },
     "metadata": {},
     "output_type": "display_data"
    }
   ],
   "source": [
    "clean_players |>\n",
    "  group_by(experience) |>\n",
    "  summarize(count = n())"
   ]
  },
  {
   "cell_type": "code",
   "execution_count": 45,
   "id": "874c0c8f-21f5-4e5b-b920-22fadf1eee3f",
   "metadata": {},
   "outputs": [
    {
     "data": {
      "text/html": [
       "<table class=\"dataframe\">\n",
       "<caption>A tibble: 1 × 4</caption>\n",
       "<thead>\n",
       "\t<tr><th scope=col>min_hours</th><th scope=col>max_hours</th><th scope=col>mean_hours</th><th scope=col>median_hours</th></tr>\n",
       "\t<tr><th scope=col>&lt;dbl&gt;</th><th scope=col>&lt;dbl&gt;</th><th scope=col>&lt;dbl&gt;</th><th scope=col>&lt;dbl&gt;</th></tr>\n",
       "</thead>\n",
       "<tbody>\n",
       "\t<tr><td>0</td><td>223.1</td><td>5.845918</td><td>0.1</td></tr>\n",
       "</tbody>\n",
       "</table>\n"
      ],
      "text/latex": [
       "A tibble: 1 × 4\n",
       "\\begin{tabular}{llll}\n",
       " min\\_hours & max\\_hours & mean\\_hours & median\\_hours\\\\\n",
       " <dbl> & <dbl> & <dbl> & <dbl>\\\\\n",
       "\\hline\n",
       "\t 0 & 223.1 & 5.845918 & 0.1\\\\\n",
       "\\end{tabular}\n"
      ],
      "text/markdown": [
       "\n",
       "A tibble: 1 × 4\n",
       "\n",
       "| min_hours &lt;dbl&gt; | max_hours &lt;dbl&gt; | mean_hours &lt;dbl&gt; | median_hours &lt;dbl&gt; |\n",
       "|---|---|---|---|\n",
       "| 0 | 223.1 | 5.845918 | 0.1 |\n",
       "\n"
      ],
      "text/plain": [
       "  min_hours max_hours mean_hours median_hours\n",
       "1 0         223.1     5.845918   0.1         "
      ]
     },
     "metadata": {},
     "output_type": "display_data"
    }
   ],
   "source": [
    "clean_players |>\n",
    "  summarize(\n",
    "    min_hours = min(played_hours),\n",
    "    max_hours = max(played_hours),\n",
    "    mean_hours = mean(played_hours),\n",
    "    median_hours = median(played_hours))"
   ]
  },
  {
   "cell_type": "code",
   "execution_count": 46,
   "id": "5e8cb4fe-c614-4ecb-a965-f2d243b916cc",
   "metadata": {},
   "outputs": [],
   "source": [
    "players_split <- initial_split(clean_players, prop = 0.8, strata = subscribe)\n",
    "players_training <- training(players_split)\n",
    "players_testing  <- testing(players_split)"
   ]
  },
  {
   "cell_type": "code",
   "execution_count": 47,
   "id": "9d6a783f-b285-4929-af62-467c1eb625d5",
   "metadata": {},
   "outputs": [],
   "source": [
    "players_recipe <- recipe(subscribe ~ experience + played_hours, data = players_training) |>\n",
    "  step_scale(played_hours) |>\n",
    "  step_center(played_hours)"
   ]
  },
  {
   "cell_type": "code",
   "execution_count": 48,
   "id": "7202471c-a2d0-4198-8b84-c2aaf9187106",
   "metadata": {},
   "outputs": [],
   "source": [
    "knn_spec <- nearest_neighbor(weight_func = \"rectangular\", neighbors = 5) |>\n",
    "  set_engine(\"kknn\") |>\n",
    "  set_mode(\"classification\")"
   ]
  },
  {
   "cell_type": "code",
   "execution_count": 49,
   "id": "01ccc236-0464-41b2-8a04-3c61076d1e2b",
   "metadata": {},
   "outputs": [],
   "source": [
    "players_fit <- workflow() |>\n",
    "  add_recipe(players_recipe) |>\n",
    "  add_model(knn_spec) |>\n",
    "  fit(data = players_training)"
   ]
  },
  {
   "cell_type": "code",
   "execution_count": 50,
   "id": "4cd19bad-7266-48a9-b26d-c8e96b3435ec",
   "metadata": {},
   "outputs": [],
   "source": [
    "players_predictions <- predict(players_fit, players_testing) |>\n",
    "  bind_cols(players_testing)"
   ]
  },
  {
   "cell_type": "code",
   "execution_count": 51,
   "id": "c68f402d-aa94-431f-aad5-35f9823f2d97",
   "metadata": {},
   "outputs": [
    {
     "data": {
      "text/html": [
       "<table class=\"dataframe\">\n",
       "<caption>A tibble: 2 × 3</caption>\n",
       "<thead>\n",
       "\t<tr><th scope=col>.metric</th><th scope=col>.estimator</th><th scope=col>.estimate</th></tr>\n",
       "\t<tr><th scope=col>&lt;chr&gt;</th><th scope=col>&lt;chr&gt;</th><th scope=col>&lt;dbl&gt;</th></tr>\n",
       "</thead>\n",
       "<tbody>\n",
       "\t<tr><td>accuracy</td><td>binary</td><td>0.50000000</td></tr>\n",
       "\t<tr><td>kap     </td><td>binary</td><td>0.02200489</td></tr>\n",
       "</tbody>\n",
       "</table>\n"
      ],
      "text/latex": [
       "A tibble: 2 × 3\n",
       "\\begin{tabular}{lll}\n",
       " .metric & .estimator & .estimate\\\\\n",
       " <chr> & <chr> & <dbl>\\\\\n",
       "\\hline\n",
       "\t accuracy & binary & 0.50000000\\\\\n",
       "\t kap      & binary & 0.02200489\\\\\n",
       "\\end{tabular}\n"
      ],
      "text/markdown": [
       "\n",
       "A tibble: 2 × 3\n",
       "\n",
       "| .metric &lt;chr&gt; | .estimator &lt;chr&gt; | .estimate &lt;dbl&gt; |\n",
       "|---|---|---|\n",
       "| accuracy | binary | 0.50000000 |\n",
       "| kap      | binary | 0.02200489 |\n",
       "\n"
      ],
      "text/plain": [
       "  .metric  .estimator .estimate \n",
       "1 accuracy binary     0.50000000\n",
       "2 kap      binary     0.02200489"
      ]
     },
     "metadata": {},
     "output_type": "display_data"
    }
   ],
   "source": [
    "metrics(players_predictions, truth = subscribe, estimate = .pred_class)"
   ]
  },
  {
   "cell_type": "code",
   "execution_count": 52,
   "id": "22eeaff3-73b6-418e-af57-70b0b020f1c0",
   "metadata": {},
   "outputs": [
    {
     "data": {
      "text/plain": [
       "          Truth\n",
       "Prediction FALSE TRUE\n",
       "     FALSE     6   15\n",
       "     TRUE      5   14"
      ]
     },
     "metadata": {},
     "output_type": "display_data"
    }
   ],
   "source": [
    "conf_mat(players_predictions, truth = subscribe, estimate = .pred_class)"
   ]
  },
  {
   "cell_type": "code",
   "execution_count": 53,
   "id": "dd5c6c56-f6b7-495d-9950-91103d132bd1",
   "metadata": {},
   "outputs": [
    {
     "data": {
      "text/html": [
       "<table class=\"dataframe\">\n",
       "<caption>A tibble: 6 × 4</caption>\n",
       "<thead>\n",
       "\t<tr><th scope=col>.pred_class</th><th scope=col>experience</th><th scope=col>played_hours</th><th scope=col>subscribe</th></tr>\n",
       "\t<tr><th scope=col>&lt;fct&gt;</th><th scope=col>&lt;chr&gt;</th><th scope=col>&lt;dbl&gt;</th><th scope=col>&lt;fct&gt;</th></tr>\n",
       "</thead>\n",
       "<tbody>\n",
       "\t<tr><td>TRUE </td><td>Amateur</td><td>0.5</td><td>TRUE </td></tr>\n",
       "\t<tr><td>TRUE </td><td>Amateur</td><td>0.7</td><td>TRUE </td></tr>\n",
       "\t<tr><td>TRUE </td><td>Regular</td><td>0.6</td><td>TRUE </td></tr>\n",
       "\t<tr><td>FALSE</td><td>Veteran</td><td>0.0</td><td>FALSE</td></tr>\n",
       "\t<tr><td>FALSE</td><td>Veteran</td><td>0.1</td><td>TRUE </td></tr>\n",
       "\t<tr><td>FALSE</td><td>Amateur</td><td>0.0</td><td>TRUE </td></tr>\n",
       "</tbody>\n",
       "</table>\n"
      ],
      "text/latex": [
       "A tibble: 6 × 4\n",
       "\\begin{tabular}{llll}\n",
       " .pred\\_class & experience & played\\_hours & subscribe\\\\\n",
       " <fct> & <chr> & <dbl> & <fct>\\\\\n",
       "\\hline\n",
       "\t TRUE  & Amateur & 0.5 & TRUE \\\\\n",
       "\t TRUE  & Amateur & 0.7 & TRUE \\\\\n",
       "\t TRUE  & Regular & 0.6 & TRUE \\\\\n",
       "\t FALSE & Veteran & 0.0 & FALSE\\\\\n",
       "\t FALSE & Veteran & 0.1 & TRUE \\\\\n",
       "\t FALSE & Amateur & 0.0 & TRUE \\\\\n",
       "\\end{tabular}\n"
      ],
      "text/markdown": [
       "\n",
       "A tibble: 6 × 4\n",
       "\n",
       "| .pred_class &lt;fct&gt; | experience &lt;chr&gt; | played_hours &lt;dbl&gt; | subscribe &lt;fct&gt; |\n",
       "|---|---|---|---|\n",
       "| TRUE  | Amateur | 0.5 | TRUE  |\n",
       "| TRUE  | Amateur | 0.7 | TRUE  |\n",
       "| TRUE  | Regular | 0.6 | TRUE  |\n",
       "| FALSE | Veteran | 0.0 | FALSE |\n",
       "| FALSE | Veteran | 0.1 | TRUE  |\n",
       "| FALSE | Amateur | 0.0 | TRUE  |\n",
       "\n"
      ],
      "text/plain": [
       "  .pred_class experience played_hours subscribe\n",
       "1 TRUE        Amateur    0.5          TRUE     \n",
       "2 TRUE        Amateur    0.7          TRUE     \n",
       "3 TRUE        Regular    0.6          TRUE     \n",
       "4 FALSE       Veteran    0.0          FALSE    \n",
       "5 FALSE       Veteran    0.1          TRUE     \n",
       "6 FALSE       Amateur    0.0          TRUE     "
      ]
     },
     "metadata": {},
     "output_type": "display_data"
    }
   ],
   "source": [
    "head(players_predictions)"
   ]
  },
  {
   "cell_type": "code",
   "execution_count": null,
   "id": "d17489ba-c617-4db8-9132-88b70cf05a3f",
   "metadata": {},
   "outputs": [],
   "source": []
  },
  {
   "cell_type": "code",
   "execution_count": null,
   "id": "ee8da851-2d75-42a4-b3f1-867c41b6de26",
   "metadata": {},
   "outputs": [],
   "source": []
  },
  {
   "cell_type": "code",
   "execution_count": null,
   "id": "c4021a44-377b-45ef-b802-c763d97c11dd",
   "metadata": {},
   "outputs": [],
   "source": []
  }
 ],
 "metadata": {
  "kernelspec": {
   "display_name": "R",
   "language": "R",
   "name": "ir"
  },
  "language_info": {
   "codemirror_mode": "r",
   "file_extension": ".r",
   "mimetype": "text/x-r-source",
   "name": "R",
   "pygments_lexer": "r",
   "version": "4.3.3"
  }
 },
 "nbformat": 4,
 "nbformat_minor": 5
}
